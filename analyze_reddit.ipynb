{
 "cells": [
  {
   "cell_type": "code",
   "execution_count": 64,
   "id": "61e42a64-73d9-459a-9d8b-672cdce3058b",
   "metadata": {},
   "outputs": [],
   "source": [
    "import pandas as pd\n",
    "import boto3\n",
    "import s3fs\n",
    "import awswrangler as wr\n",
    "import matplotlib.pyplot as plt"
   ]
  },
  {
   "cell_type": "code",
   "execution_count": 57,
   "id": "0e3223f3-3e6d-4aeb-8152-3e4b86a998aa",
   "metadata": {},
   "outputs": [
    {
     "data": {
      "text/html": [
       "<div>\n",
       "<style scoped>\n",
       "    .dataframe tbody tr th:only-of-type {\n",
       "        vertical-align: middle;\n",
       "    }\n",
       "\n",
       "    .dataframe tbody tr th {\n",
       "        vertical-align: top;\n",
       "    }\n",
       "\n",
       "    .dataframe thead th {\n",
       "        text-align: right;\n",
       "    }\n",
       "</style>\n",
       "<table border=\"1\" class=\"dataframe\">\n",
       "  <thead>\n",
       "    <tr style=\"text-align: right;\">\n",
       "      <th></th>\n",
       "      <th>Unnamed: 0</th>\n",
       "      <th>title</th>\n",
       "      <th>author</th>\n",
       "      <th>score</th>\n",
       "      <th>permalink</th>\n",
       "    </tr>\n",
       "  </thead>\n",
       "  <tbody>\n",
       "    <tr>\n",
       "      <th>0</th>\n",
       "      <td>0</td>\n",
       "      <td>[OC] Costco's 2022 Income Statement visualized...</td>\n",
       "      <td>Square_Tea4916</td>\n",
       "      <td>42667</td>\n",
       "      <td>/r/dataisbeautiful/comments/10hsaf8/oc_costcos...</td>\n",
       "    </tr>\n",
       "    <tr>\n",
       "      <th>1</th>\n",
       "      <td>1</td>\n",
       "      <td>[OC] Surge in Egg Prices in the U.S.</td>\n",
       "      <td>Metalytiq</td>\n",
       "      <td>41458</td>\n",
       "      <td>/r/dataisbeautiful/comments/10efkbx/oc_surge_i...</td>\n",
       "    </tr>\n",
       "    <tr>\n",
       "      <th>2</th>\n",
       "      <td>2</td>\n",
       "      <td>[OC] Fall and rise of The New York Times</td>\n",
       "      <td>jtsg_</td>\n",
       "      <td>38457</td>\n",
       "      <td>/r/dataisbeautiful/comments/10x8ofs/oc_fall_an...</td>\n",
       "    </tr>\n",
       "    <tr>\n",
       "      <th>3</th>\n",
       "      <td>3</td>\n",
       "      <td>[OC] No-one wants me to stay safe anymore: the...</td>\n",
       "      <td>spicer2</td>\n",
       "      <td>33732</td>\n",
       "      <td>/r/dataisbeautiful/comments/10v4hn5/oc_noone_w...</td>\n",
       "    </tr>\n",
       "    <tr>\n",
       "      <th>4</th>\n",
       "      <td>4</td>\n",
       "      <td>[OC] One-in-five teens are almost constantly o...</td>\n",
       "      <td>plotset</td>\n",
       "      <td>33416</td>\n",
       "      <td>/r/dataisbeautiful/comments/10ozhv7/oc_oneinfi...</td>\n",
       "    </tr>\n",
       "  </tbody>\n",
       "</table>\n",
       "</div>"
      ],
      "text/plain": [
       "   Unnamed: 0                                              title  \\\n",
       "0           0  [OC] Costco's 2022 Income Statement visualized...   \n",
       "1           1               [OC] Surge in Egg Prices in the U.S.   \n",
       "2           2           [OC] Fall and rise of The New York Times   \n",
       "3           3  [OC] No-one wants me to stay safe anymore: the...   \n",
       "4           4  [OC] One-in-five teens are almost constantly o...   \n",
       "\n",
       "           author  score                                          permalink  \n",
       "0  Square_Tea4916  42667  /r/dataisbeautiful/comments/10hsaf8/oc_costcos...  \n",
       "1       Metalytiq  41458  /r/dataisbeautiful/comments/10efkbx/oc_surge_i...  \n",
       "2           jtsg_  38457  /r/dataisbeautiful/comments/10x8ofs/oc_fall_an...  \n",
       "3         spicer2  33732  /r/dataisbeautiful/comments/10v4hn5/oc_noone_w...  \n",
       "4         plotset  33416  /r/dataisbeautiful/comments/10ozhv7/oc_oneinfi...  "
      ]
     },
     "execution_count": 57,
     "metadata": {},
     "output_type": "execute_result"
    }
   ],
   "source": [
    "df = wr.s3.read_csv(\"s3://reddit-dataisbeautiful-top/2023-02-13 22:02:10 - clean .csv\")\n",
    "df.head()"
   ]
  },
  {
   "cell_type": "code",
   "execution_count": 66,
   "id": "8d361d6d-859e-44c6-9794-c81520ddfc68",
   "metadata": {},
   "outputs": [
    {
     "data": {
      "image/png": "[encoded data removed]",
      "text/plain": [
       "<Figure size 640x480 with 1 Axes>"
      ]
     },
     "metadata": {},
     "output_type": "display_data"
    }
   ],
   "source": [
    "plt.hist(df['score'], bins=5)\n",
    "plt.show()"
   ]
  },
  {
   "cell_type": "code",
   "execution_count": null,
   "id": "d335f859-b650-4e3b-ad6d-1def2a30a2a4",
   "metadata": {},
   "outputs": [],
   "source": []
  }
 ],
 "metadata": {
  "kernelspec": {
   "display_name": "default:Python",
   "language": "python",
   "name": "conda-env-default-py"
  },
  "language_info": {
   "codemirror_mode": {
    "name": "ipython",
    "version": 3
   },
   "file_extension": ".py",
   "mimetype": "text/x-python",
   "name": "python",
   "nbconvert_exporter": "python",
   "pygments_lexer": "ipython3",
   "version": "3.9.13"
  }
 },
 "nbformat": 4,
 "nbformat_minor": 5
}
